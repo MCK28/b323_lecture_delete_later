{
 "cells": [
  {
   "cell_type": "code",
   "execution_count": null,
   "id": "e4c3471c",
   "metadata": {},
   "outputs": [],
   "source": [
    "print()"
   ]
  }
 ],
 "metadata": {
  "language_info": {
   "name": "python"
  }
 },
 "nbformat": 4,
 "nbformat_minor": 5
}
